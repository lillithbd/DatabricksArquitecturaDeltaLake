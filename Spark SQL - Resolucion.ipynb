{
 "cells": [
  {
   "cell_type": "markdown",
   "metadata": {
    "application/vnd.databricks.v1+cell": {
     "cellMetadata": {},
     "inputWidgets": {},
     "nuid": "0addb040-7f85-4874-8c5e-4738e1ba43d6",
     "showTitle": false,
     "title": ""
    }
   },
   "source": [
    "#Ejercicio 1\n",
    "Realiza una consulta utilizando Spark SQL para seleccionar el nombre y la edad de las personas cuya edad sea mayor a 28."
   ]
  },
  {
   "cell_type": "code",
   "execution_count": 0,
   "metadata": {
    "application/vnd.databricks.v1+cell": {
     "cellMetadata": {
      "byteLimit": 2048000,
      "rowLimit": 10000
     },
     "inputWidgets": {},
     "nuid": "e4a847f1-84bf-4ea0-a40f-b368461706a8",
     "showTitle": false,
     "title": ""
    }
   },
   "outputs": [],
   "source": [
    "#Ejercicio 1 - Datos de Prueba\n",
    "from pyspark.sql import SparkSession\n",
    "from pyspark.sql.types import StructType, StructField, StringType, IntegerType\n",
    "\n",
    "# Crear una sesión de Spark\n",
    "spark = SparkSession.builder.appName(\"ejercicio1\").getOrCreate()\n",
    "\n",
    "# Definir el esquema de los datos\n",
    "schema = StructType([\n",
    "    StructField(\"id\", IntegerType(), True),\n",
    "    StructField(\"nombre\", StringType(), True),\n",
    "    StructField(\"edad\", IntegerType(), True)\n",
    "])\n",
    "\n",
    "# Crear un DataFrame de prueba\n",
    "data = [(1, \"Juan\", 25), (2, \"María\", 30), (3, \"Pedro\", 28)]\n",
    "df = spark.createDataFrame(data, schema)\n",
    "\n",
    "# Crear una vista temporal para utilizar en Spark SQL\n",
    "df.createOrReplaceTempView(\"personas\")"
   ]
  },
  {
   "cell_type": "code",
   "execution_count": 0,
   "metadata": {
    "application/vnd.databricks.v1+cell": {
     "cellMetadata": {
      "byteLimit": 2048000,
      "rowLimit": 10000
     },
     "inputWidgets": {},
     "nuid": "1ab23572-6106-4ba1-8fd2-5d96c8ac7a8f",
     "showTitle": false,
     "title": ""
    }
   },
   "outputs": [
    {
     "output_type": "stream",
     "name": "stdout",
     "output_type": "stream",
     "text": [
      "+------+----+\n|nombre|edad|\n+------+----+\n| María|  30|\n+------+----+\n\n"
     ]
    }
   ],
   "source": [
    "#Ejercicio 1 - Resolucion\n",
    "\n",
    "# Consulta con Spark SQL\n",
    "resultado = spark.sql(\"SELECT nombre, edad FROM personas WHERE edad > 28\")\n",
    "\n",
    "# Mostrar el resultado\n",
    "resultado.show()"
   ]
  },
  {
   "cell_type": "markdown",
   "metadata": {
    "application/vnd.databricks.v1+cell": {
     "cellMetadata": {},
     "inputWidgets": {},
     "nuid": "bc0fea4b-069d-463e-9ca7-9a97b25ba9c4",
     "showTitle": false,
     "title": ""
    }
   },
   "source": [
    "#Ejercicio 2\n",
    "Realiza una consulta utilizando Spark SQL para obtener la edad promedio de las personas en el DataFrame."
   ]
  },
  {
   "cell_type": "code",
   "execution_count": 0,
   "metadata": {
    "application/vnd.databricks.v1+cell": {
     "cellMetadata": {
      "byteLimit": 2048000,
      "rowLimit": 10000
     },
     "inputWidgets": {},
     "nuid": "fde15e1d-96b8-406c-b870-e7d16edf1361",
     "showTitle": false,
     "title": ""
    }
   },
   "outputs": [],
   "source": [
    "#Ejercicio 2 - Datos de prueba\n",
    "\n",
    "# Utilizamos el DataFrame creado en el ejercicio 1\n",
    "\n",
    "# Agregar más datos al DataFrame\n",
    "data_nuevos = [(4, \"Ana\", 22), (5, \"Luis\", 32), (6, \"Laura\", 27)]\n",
    "df_nuevos = spark.createDataFrame(data_nuevos, schema)\n",
    "\n",
    "# Union de DataFrames\n",
    "df = df.union(df_nuevos)"
   ]
  },
  {
   "cell_type": "code",
   "execution_count": 0,
   "metadata": {
    "application/vnd.databricks.v1+cell": {
     "cellMetadata": {
      "byteLimit": 2048000,
      "rowLimit": 10000
     },
     "inputWidgets": {},
     "nuid": "1f324264-8fad-4d96-b826-cc9aacb7ae9e",
     "showTitle": false,
     "title": ""
    }
   },
   "outputs": [
    {
     "output_type": "stream",
     "name": "stdout",
     "output_type": "stream",
     "text": [
      "+------------------+\n|     edad_promedio|\n+------------------+\n|27.666666666666668|\n+------------------+\n\n"
     ]
    }
   ],
   "source": [
    "#Ejercicio 2 - Resolucion \n",
    "\n",
    "# Consulta con Spark SQL para la edad promedio\n",
    "resultado_promedio = spark.sql(\"SELECT AVG(edad) as edad_promedio FROM personas\")\n",
    "\n",
    "# Mostrar el resultado\n",
    "resultado_promedio.show()"
   ]
  },
  {
   "cell_type": "markdown",
   "metadata": {
    "application/vnd.databricks.v1+cell": {
     "cellMetadata": {},
     "inputWidgets": {},
     "nuid": "d9db8231-db15-4452-bdc7-267070133282",
     "showTitle": false,
     "title": ""
    }
   },
   "source": [
    "#Ejercicio 3\n",
    "Realiza una consulta utilizando Spark SQL para obtener el nombre, la edad y la dirección de las personas que tienen una dirección registrada."
   ]
  },
  {
   "cell_type": "code",
   "execution_count": 0,
   "metadata": {
    "application/vnd.databricks.v1+cell": {
     "cellMetadata": {
      "byteLimit": 2048000,
      "rowLimit": 10000
     },
     "inputWidgets": {},
     "nuid": "d7475a46-f1f7-446e-a756-058df39d664e",
     "showTitle": false,
     "title": ""
    }
   },
   "outputs": [],
   "source": [
    "#Ejercicio  3 - Datos de prueba\n",
    "\n",
    "# Utilizamos los DataFrames creados en los ejercicios anteriores\n",
    "\n",
    "# Crear un segundo DataFrame para realizar un join\n",
    "schema_direccion = StructType([\n",
    "    StructField(\"id\", IntegerType(), True),\n",
    "    StructField(\"direccion\", StringType(), True)\n",
    "])\n",
    "\n",
    "data_direccion = [(1, \"Calle A\"), (2, \"Calle B\"), (3, \"Calle C\"), (4, \"Calle D\")]\n",
    "df_direccion = spark.createDataFrame(data_direccion, schema_direccion)\n",
    "\n",
    "# Crear una vista temporal para el segundo DataFrame\n",
    "df_direccion.createOrReplaceTempView(\"direcciones\")"
   ]
  },
  {
   "cell_type": "code",
   "execution_count": 0,
   "metadata": {
    "application/vnd.databricks.v1+cell": {
     "cellMetadata": {
      "byteLimit": 2048000,
      "rowLimit": 10000
     },
     "inputWidgets": {},
     "nuid": "7e560c43-285a-4533-a5e7-62620df2406a",
     "showTitle": false,
     "title": ""
    }
   },
   "outputs": [
    {
     "output_type": "stream",
     "name": "stdout",
     "output_type": "stream",
     "text": [
      "+------+----+---------+\n|nombre|edad|direccion|\n+------+----+---------+\n|  Juan|  25|  Calle A|\n| María|  30|  Calle B|\n| Pedro|  28|  Calle C|\n+------+----+---------+\n\n"
     ]
    }
   ],
   "source": [
    "#Ejercicio 3 - Resolucion\n",
    "\n",
    "# Consulta con Spark SQL para el join\n",
    "resultado_join = spark.sql(\"SELECT p.nombre, p.edad, d.direccion FROM personas p JOIN direcciones d ON p.id = d.id\")\n",
    "\n",
    "# Mostrar el resultado\n",
    "resultado_join.show()"
   ]
  }
 ],
 "metadata": {
  "application/vnd.databricks.v1+notebook": {
   "dashboards": [],
   "language": "python",
   "notebookMetadata": {
    "pythonIndentUnit": 4
   },
   "notebookName": "Spark SQL - Resolucion",
   "widgets": {}
  }
 },
 "nbformat": 4,
 "nbformat_minor": 0
}
